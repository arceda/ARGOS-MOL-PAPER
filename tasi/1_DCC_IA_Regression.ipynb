{
  "nbformat": 4,
  "nbformat_minor": 0,
  "metadata": {
    "colab": {
      "name": "DCC IA - Regression.ipynb",
      "provenance": [],
      "collapsed_sections": [],
      "include_colab_link": true
    },
    "kernelspec": {
      "name": "python3",
      "display_name": "Python 3"
    },
    "language_info": {
      "name": "python"
    }
  },
  "cells": [
    {
      "cell_type": "markdown",
      "metadata": {
        "id": "view-in-github",
        "colab_type": "text"
      },
      "source": [
        "<a href=\"https://colab.research.google.com/github/arceda/ARGOS-MOL-PAPER/blob/main/tasi/1_DCC_IA_Regression.ipynb\" target=\"_parent\"><img src=\"https://colab.research.google.com/assets/colab-badge.svg\" alt=\"Open In Colab\"/></a>"
      ]
    },
    {
      "cell_type": "markdown",
      "metadata": {
        "id": "0vn8iV9NYsfX"
      },
      "source": [
        "Obteniendo los datos originales del experimento de Galton."
      ]
    },
    {
      "cell_type": "code",
      "metadata": {
        "id": "-ctg6aJFV-nU",
        "colab": {
          "base_uri": "https://localhost:8080/"
        },
        "outputId": "812ce9d2-801c-4b70-aa5b-77e8e9b5aed6"
      },
      "source": [
        "import csv\n",
        "import requests # pip install requests for easy http request for CSV data\n",
        "import pandas as pd\n",
        "import numpy as np\n",
        "\n",
        "import io\n",
        "\n",
        "url = \"https://raw.githubusercontent.com/data-8/materials-fa17/master/lec/galton.csv\"\n",
        "\n",
        "s = requests.get(url).content\n",
        "df = pd.read_csv(io.StringIO(s.decode('utf-8')))\n",
        "\n",
        "# Convirtiendo las estaturas, de pulgadas a centímetros\n",
        "\n",
        "inch_to_cm = 2.54\n",
        "df['father'] *= inch_to_cm\n",
        "#df['father'] = df['father'] * inch_to_cm\n",
        "\n",
        "df['mother'] *= inch_to_cm\n",
        "df['childHeight'] *= inch_to_cm\n",
        "df['midparentHeight'] *= inch_to_cm\n",
        "print(df)\n",
        "\n"
      ],
      "execution_count": null,
      "outputs": [
        {
          "output_type": "stream",
          "name": "stdout",
          "text": [
            "    family  father  mother  ...  childNum  gender  childHeight\n",
            "0        1  199.39  170.18  ...         1    male      185.928\n",
            "1        1  199.39  170.18  ...         2  female      175.768\n",
            "2        1  199.39  170.18  ...         3  female      175.260\n",
            "3        1  199.39  170.18  ...         4  female      175.260\n",
            "4        2  191.77  168.91  ...         1    male      186.690\n",
            "..     ...     ...     ...  ...       ...     ...          ...\n",
            "929    203  157.48  167.64  ...         1    male      162.560\n",
            "930    203  157.48  167.64  ...         2  female      157.480\n",
            "931    203  157.48  167.64  ...         3  female      154.940\n",
            "932    204  158.75  160.02  ...         1    male      168.910\n",
            "933    204  158.75  160.02  ...         2  female      144.780\n",
            "\n",
            "[934 rows x 8 columns]\n"
          ]
        }
      ]
    },
    {
      "cell_type": "code",
      "source": [
        "df"
      ],
      "metadata": {
        "colab": {
          "base_uri": "https://localhost:8080/",
          "height": 1194
        },
        "id": "zN4KBgYDFmfZ",
        "outputId": "00b02987-7d2f-498e-a83d-d410d0bbe15f"
      },
      "execution_count": null,
      "outputs": [
        {
          "output_type": "execute_result",
          "data": {
            "text/html": [
              "\n",
              "  <div id=\"df-ce2eb802-628c-4b22-b7bb-2f6bb8eae69e\">\n",
              "    <div class=\"colab-df-container\">\n",
              "      <div>\n",
              "<style scoped>\n",
              "    .dataframe tbody tr th:only-of-type {\n",
              "        vertical-align: middle;\n",
              "    }\n",
              "\n",
              "    .dataframe tbody tr th {\n",
              "        vertical-align: top;\n",
              "    }\n",
              "\n",
              "    .dataframe thead th {\n",
              "        text-align: right;\n",
              "    }\n",
              "</style>\n",
              "<table border=\"1\" class=\"dataframe\">\n",
              "  <thead>\n",
              "    <tr style=\"text-align: right;\">\n",
              "      <th></th>\n",
              "      <th>family</th>\n",
              "      <th>father</th>\n",
              "      <th>mother</th>\n",
              "      <th>midparentHeight</th>\n",
              "      <th>children</th>\n",
              "      <th>childNum</th>\n",
              "      <th>gender</th>\n",
              "      <th>childHeight</th>\n",
              "    </tr>\n",
              "  </thead>\n",
              "  <tbody>\n",
              "    <tr>\n",
              "      <th>0</th>\n",
              "      <td>1</td>\n",
              "      <td>199.39</td>\n",
              "      <td>170.18</td>\n",
              "      <td>191.5922</td>\n",
              "      <td>4</td>\n",
              "      <td>1</td>\n",
              "      <td>male</td>\n",
              "      <td>185.928</td>\n",
              "    </tr>\n",
              "    <tr>\n",
              "      <th>1</th>\n",
              "      <td>1</td>\n",
              "      <td>199.39</td>\n",
              "      <td>170.18</td>\n",
              "      <td>191.5922</td>\n",
              "      <td>4</td>\n",
              "      <td>2</td>\n",
              "      <td>female</td>\n",
              "      <td>175.768</td>\n",
              "    </tr>\n",
              "    <tr>\n",
              "      <th>2</th>\n",
              "      <td>1</td>\n",
              "      <td>199.39</td>\n",
              "      <td>170.18</td>\n",
              "      <td>191.5922</td>\n",
              "      <td>4</td>\n",
              "      <td>3</td>\n",
              "      <td>female</td>\n",
              "      <td>175.260</td>\n",
              "    </tr>\n",
              "    <tr>\n",
              "      <th>3</th>\n",
              "      <td>1</td>\n",
              "      <td>199.39</td>\n",
              "      <td>170.18</td>\n",
              "      <td>191.5922</td>\n",
              "      <td>4</td>\n",
              "      <td>4</td>\n",
              "      <td>female</td>\n",
              "      <td>175.260</td>\n",
              "    </tr>\n",
              "    <tr>\n",
              "      <th>4</th>\n",
              "      <td>2</td>\n",
              "      <td>191.77</td>\n",
              "      <td>168.91</td>\n",
              "      <td>187.0964</td>\n",
              "      <td>4</td>\n",
              "      <td>1</td>\n",
              "      <td>male</td>\n",
              "      <td>186.690</td>\n",
              "    </tr>\n",
              "    <tr>\n",
              "      <th>...</th>\n",
              "      <td>...</td>\n",
              "      <td>...</td>\n",
              "      <td>...</td>\n",
              "      <td>...</td>\n",
              "      <td>...</td>\n",
              "      <td>...</td>\n",
              "      <td>...</td>\n",
              "      <td>...</td>\n",
              "    </tr>\n",
              "    <tr>\n",
              "      <th>929</th>\n",
              "      <td>203</td>\n",
              "      <td>157.48</td>\n",
              "      <td>167.64</td>\n",
              "      <td>169.2656</td>\n",
              "      <td>3</td>\n",
              "      <td>1</td>\n",
              "      <td>male</td>\n",
              "      <td>162.560</td>\n",
              "    </tr>\n",
              "    <tr>\n",
              "      <th>930</th>\n",
              "      <td>203</td>\n",
              "      <td>157.48</td>\n",
              "      <td>167.64</td>\n",
              "      <td>169.2656</td>\n",
              "      <td>3</td>\n",
              "      <td>2</td>\n",
              "      <td>female</td>\n",
              "      <td>157.480</td>\n",
              "    </tr>\n",
              "    <tr>\n",
              "      <th>931</th>\n",
              "      <td>203</td>\n",
              "      <td>157.48</td>\n",
              "      <td>167.64</td>\n",
              "      <td>169.2656</td>\n",
              "      <td>3</td>\n",
              "      <td>3</td>\n",
              "      <td>female</td>\n",
              "      <td>154.940</td>\n",
              "    </tr>\n",
              "    <tr>\n",
              "      <th>932</th>\n",
              "      <td>204</td>\n",
              "      <td>158.75</td>\n",
              "      <td>160.02</td>\n",
              "      <td>165.7858</td>\n",
              "      <td>2</td>\n",
              "      <td>1</td>\n",
              "      <td>male</td>\n",
              "      <td>168.910</td>\n",
              "    </tr>\n",
              "    <tr>\n",
              "      <th>933</th>\n",
              "      <td>204</td>\n",
              "      <td>158.75</td>\n",
              "      <td>160.02</td>\n",
              "      <td>165.7858</td>\n",
              "      <td>2</td>\n",
              "      <td>2</td>\n",
              "      <td>female</td>\n",
              "      <td>144.780</td>\n",
              "    </tr>\n",
              "  </tbody>\n",
              "</table>\n",
              "<p>934 rows × 8 columns</p>\n",
              "</div>\n",
              "      <button class=\"colab-df-convert\" onclick=\"convertToInteractive('df-ce2eb802-628c-4b22-b7bb-2f6bb8eae69e')\"\n",
              "              title=\"Convert this dataframe to an interactive table.\"\n",
              "              style=\"display:none;\">\n",
              "        \n",
              "  <svg xmlns=\"http://www.w3.org/2000/svg\" height=\"24px\"viewBox=\"0 0 24 24\"\n",
              "       width=\"24px\">\n",
              "    <path d=\"M0 0h24v24H0V0z\" fill=\"none\"/>\n",
              "    <path d=\"M18.56 5.44l.94 2.06.94-2.06 2.06-.94-2.06-.94-.94-2.06-.94 2.06-2.06.94zm-11 1L8.5 8.5l.94-2.06 2.06-.94-2.06-.94L8.5 2.5l-.94 2.06-2.06.94zm10 10l.94 2.06.94-2.06 2.06-.94-2.06-.94-.94-2.06-.94 2.06-2.06.94z\"/><path d=\"M17.41 7.96l-1.37-1.37c-.4-.4-.92-.59-1.43-.59-.52 0-1.04.2-1.43.59L10.3 9.45l-7.72 7.72c-.78.78-.78 2.05 0 2.83L4 21.41c.39.39.9.59 1.41.59.51 0 1.02-.2 1.41-.59l7.78-7.78 2.81-2.81c.8-.78.8-2.07 0-2.86zM5.41 20L4 18.59l7.72-7.72 1.47 1.35L5.41 20z\"/>\n",
              "  </svg>\n",
              "      </button>\n",
              "      \n",
              "  <style>\n",
              "    .colab-df-container {\n",
              "      display:flex;\n",
              "      flex-wrap:wrap;\n",
              "      gap: 12px;\n",
              "    }\n",
              "\n",
              "    .colab-df-convert {\n",
              "      background-color: #E8F0FE;\n",
              "      border: none;\n",
              "      border-radius: 50%;\n",
              "      cursor: pointer;\n",
              "      display: none;\n",
              "      fill: #1967D2;\n",
              "      height: 32px;\n",
              "      padding: 0 0 0 0;\n",
              "      width: 32px;\n",
              "    }\n",
              "\n",
              "    .colab-df-convert:hover {\n",
              "      background-color: #E2EBFA;\n",
              "      box-shadow: 0px 1px 2px rgba(60, 64, 67, 0.3), 0px 1px 3px 1px rgba(60, 64, 67, 0.15);\n",
              "      fill: #174EA6;\n",
              "    }\n",
              "\n",
              "    [theme=dark] .colab-df-convert {\n",
              "      background-color: #3B4455;\n",
              "      fill: #D2E3FC;\n",
              "    }\n",
              "\n",
              "    [theme=dark] .colab-df-convert:hover {\n",
              "      background-color: #434B5C;\n",
              "      box-shadow: 0px 1px 3px 1px rgba(0, 0, 0, 0.15);\n",
              "      filter: drop-shadow(0px 1px 2px rgba(0, 0, 0, 0.3));\n",
              "      fill: #FFFFFF;\n",
              "    }\n",
              "  </style>\n",
              "\n",
              "      <script>\n",
              "        const buttonEl =\n",
              "          document.querySelector('#df-ce2eb802-628c-4b22-b7bb-2f6bb8eae69e button.colab-df-convert');\n",
              "        buttonEl.style.display =\n",
              "          google.colab.kernel.accessAllowed ? 'block' : 'none';\n",
              "\n",
              "        async function convertToInteractive(key) {\n",
              "          const element = document.querySelector('#df-ce2eb802-628c-4b22-b7bb-2f6bb8eae69e');\n",
              "          const dataTable =\n",
              "            await google.colab.kernel.invokeFunction('convertToInteractive',\n",
              "                                                     [key], {});\n",
              "          if (!dataTable) return;\n",
              "\n",
              "          const docLinkHtml = 'Like what you see? Visit the ' +\n",
              "            '<a target=\"_blank\" href=https://colab.research.google.com/notebooks/data_table.ipynb>data table notebook</a>'\n",
              "            + ' to learn more about interactive tables.';\n",
              "          element.innerHTML = '';\n",
              "          dataTable['output_type'] = 'display_data';\n",
              "          await google.colab.output.renderOutput(dataTable, element);\n",
              "          const docLink = document.createElement('div');\n",
              "          docLink.innerHTML = docLinkHtml;\n",
              "          element.appendChild(docLink);\n",
              "        }\n",
              "      </script>\n",
              "    </div>\n",
              "  </div>\n",
              "  "
            ],
            "text/plain": [
              "    family  father  mother  ...  childNum  gender  childHeight\n",
              "0        1  199.39  170.18  ...         1    male      185.928\n",
              "1        1  199.39  170.18  ...         2  female      175.768\n",
              "2        1  199.39  170.18  ...         3  female      175.260\n",
              "3        1  199.39  170.18  ...         4  female      175.260\n",
              "4        2  191.77  168.91  ...         1    male      186.690\n",
              "..     ...     ...     ...  ...       ...     ...          ...\n",
              "929    203  157.48  167.64  ...         1    male      162.560\n",
              "930    203  157.48  167.64  ...         2  female      157.480\n",
              "931    203  157.48  167.64  ...         3  female      154.940\n",
              "932    204  158.75  160.02  ...         1    male      168.910\n",
              "933    204  158.75  160.02  ...         2  female      144.780\n",
              "\n",
              "[934 rows x 8 columns]"
            ]
          },
          "metadata": {},
          "execution_count": 8
        }
      ]
    },
    {
      "cell_type": "markdown",
      "metadata": {
        "id": "ev-ukeN4DWz0"
      },
      "source": [
        "# Ejercicios:\n",
        "Explorar el conjunto de datos\n",
        "1. Imprimir el DataFrame df\n",
        "2. Imprimir los tipos de datos de las columnas\n",
        "3. Graficar un histograma de las columnas _father_, _mother_ y _childHeight_\n",
        "4. Hacer un scatter plot de las columnas _father_ vs. _childHeight_ y _mother_ vs. _childHeight_\n",
        "5. Mostrar los valores mínimo, máximo y medio para las columnas _father_, _mother_ y _childHeight_."
      ]
    },
    {
      "cell_type": "code",
      "metadata": {
        "colab": {
          "base_uri": "https://localhost:8080/",
          "height": 1000
        },
        "id": "TjH1n3OpAaAw",
        "outputId": "7622731e-016c-4db3-fdb1-30a9b0e710ee"
      },
      "source": [
        "#1\n",
        "print(df)\n",
        "\n",
        "#2\n",
        "print(df.dtypes)\n",
        "\n",
        "#3\n",
        "import matplotlib\n",
        "import matplotlib.pyplot as plt\n",
        " \n",
        "plt.hist(df['father'])\n",
        "plt.show()\n",
        "\n",
        "plt.hist(df['mother'])\n",
        "plt.show()\n",
        "\n",
        "plt.hist(df['childHeight'])\n",
        "plt.show()\n",
        "\n",
        "#4\n",
        "plt.scatter(df['father'], df['childHeight'])\n",
        "plt.show()\n",
        "\n",
        "plt.scatter(df['mother'], df['childHeight'])\n",
        "plt.show()\n",
        "\n",
        "plt.scatter(df['midparentHeight'], df['childHeight'])\n",
        "plt.show()\n",
        "\n",
        "#5\n",
        "for col in ['father', 'mother', 'childHeight']:\n",
        "  print(\"min  (%s) = %f\" %   (col, df[col].min()))\n",
        "  print(\"max  (%s) = %f\" %   (col, df[col].max()))\n",
        "  print(\"mean (%s) = %f\\n\" % (col, df[col].mean()))"
      ],
      "execution_count": null,
      "outputs": [
        {
          "output_type": "stream",
          "name": "stdout",
          "text": [
            "    family  father  mother  ...  childNum  gender  childHeight\n",
            "0        1  199.39  170.18  ...         1    male      185.928\n",
            "1        1  199.39  170.18  ...         2  female      175.768\n",
            "2        1  199.39  170.18  ...         3  female      175.260\n",
            "3        1  199.39  170.18  ...         4  female      175.260\n",
            "4        2  191.77  168.91  ...         1    male      186.690\n",
            "..     ...     ...     ...  ...       ...     ...          ...\n",
            "929    203  157.48  167.64  ...         1    male      162.560\n",
            "930    203  157.48  167.64  ...         2  female      157.480\n",
            "931    203  157.48  167.64  ...         3  female      154.940\n",
            "932    204  158.75  160.02  ...         1    male      168.910\n",
            "933    204  158.75  160.02  ...         2  female      144.780\n",
            "\n",
            "[934 rows x 8 columns]\n",
            "family              object\n",
            "father             float64\n",
            "mother             float64\n",
            "midparentHeight    float64\n",
            "children             int64\n",
            "childNum             int64\n",
            "gender              object\n",
            "childHeight        float64\n",
            "dtype: object\n"
          ]
        },
        {
          "output_type": "display_data",
          "data": {
            "image/png": "[encoded data removed]",
            "text/plain": [
              "<Figure size 432x288 with 1 Axes>"
            ]
          },
          "metadata": {
            "needs_background": "light"
          }
        },
        {
          "output_type": "display_data",
          "data": {
            "image/png": "[encoded data removed]",
            "text/plain": [
              "<Figure size 432x288 with 1 Axes>"
            ]
          },
          "metadata": {
            "needs_background": "light"
          }
        },
        {
          "output_type": "display_data",
          "data": {
            "image/png": "[encoded data removed]",
            "text/plain": [
              "<Figure size 432x288 with 1 Axes>"
            ]
          },
          "metadata": {
            "needs_background": "light"
          }
        },
        {
          "output_type": "display_data",
          "data": {
            "image/png": "[encoded data removed]",
            "text/plain": [
              "<Figure size 432x288 with 1 Axes>"
            ]
          },
          "metadata": {
            "needs_background": "light"
          }
        },
        {
          "output_type": "display_data",
          "data": {
            "image/png": "[encoded data removed]",
            "text/plain": [
              "<Figure size 432x288 with 1 Axes>"
            ]
          },
          "metadata": {
            "needs_background": "light"
          }
        },
        {
          "output_type": "display_data",
          "data": {
            "image/png": "[encoded data removed]",
            "text/plain": [
              "<Figure size 432x288 with 1 Axes>"
            ]
          },
          "metadata": {
            "needs_background": "light"
          }
        },
        {
          "output_type": "stream",
          "name": "stdout",
          "text": [
            "min  (father) = 157.480000\n",
            "max  (father) = 199.390000\n",
            "mean (father) = 175.760657\n",
            "\n",
            "min  (mother) = 147.320000\n",
            "max  (mother) = 179.070000\n",
            "mean (mother) = 162.786805\n",
            "\n",
            "min  (childHeight) = 142.240000\n",
            "max  (childHeight) = 200.660000\n",
            "mean (childHeight) = 169.534666\n",
            "\n"
          ]
        }
      ]
    },
    {
      "cell_type": "markdown",
      "metadata": {
        "id": "ThfN4zJ4AdGh"
      },
      "source": [
        "Usando solamente los datos de los hijos varones"
      ]
    },
    {
      "cell_type": "code",
      "source": [
        "df[df['gender'] == 'male']"
      ],
      "metadata": {
        "colab": {
          "base_uri": "https://localhost:8080/"
        },
        "id": "LGr0j6ntJM1d",
        "outputId": "57f41f71-4a2b-4d74-cd17-55c3d9487620"
      },
      "execution_count": null,
      "outputs": [
        {
          "output_type": "execute_result",
          "data": {
            "text/plain": [
              "0       True\n",
              "1      False\n",
              "2      False\n",
              "3      False\n",
              "4       True\n",
              "       ...  \n",
              "929     True\n",
              "930    False\n",
              "931    False\n",
              "932     True\n",
              "933    False\n",
              "Name: gender, Length: 934, dtype: bool"
            ]
          },
          "metadata": {},
          "execution_count": 11
        }
      ]
    },
    {
      "cell_type": "code",
      "metadata": {
        "colab": {
          "base_uri": "https://localhost:8080/",
          "height": 423
        },
        "id": "6IbXcO4sJ7PJ",
        "outputId": "1545690e-4fb7-41a9-a4a1-668dadb194f5"
      },
      "source": [
        "#df = df[df['gender'] == 'male']\n",
        "#df\n",
        "\n",
        "df = df[df['gender'] == 'male']\n",
        "df"
      ],
      "execution_count": null,
      "outputs": [
        {
          "output_type": "execute_result",
          "data": {
            "text/html": [
              "\n",
              "  <div id=\"df-dd0bcd4d-a6f7-4eda-8079-9ddb62b7c5aa\">\n",
              "    <div class=\"colab-df-container\">\n",
              "      <div>\n",
              "<style scoped>\n",
              "    .dataframe tbody tr th:only-of-type {\n",
              "        vertical-align: middle;\n",
              "    }\n",
              "\n",
              "    .dataframe tbody tr th {\n",
              "        vertical-align: top;\n",
              "    }\n",
              "\n",
              "    .dataframe thead th {\n",
              "        text-align: right;\n",
              "    }\n",
              "</style>\n",
              "<table border=\"1\" class=\"dataframe\">\n",
              "  <thead>\n",
              "    <tr style=\"text-align: right;\">\n",
              "      <th></th>\n",
              "      <th>family</th>\n",
              "      <th>father</th>\n",
              "      <th>mother</th>\n",
              "      <th>midparentHeight</th>\n",
              "      <th>children</th>\n",
              "      <th>childNum</th>\n",
              "      <th>gender</th>\n",
              "      <th>childHeight</th>\n",
              "    </tr>\n",
              "  </thead>\n",
              "  <tbody>\n",
              "    <tr>\n",
              "      <th>0</th>\n",
              "      <td>1</td>\n",
              "      <td>199.39</td>\n",
              "      <td>170.18</td>\n",
              "      <td>191.5922</td>\n",
              "      <td>4</td>\n",
              "      <td>1</td>\n",
              "      <td>male</td>\n",
              "      <td>185.928</td>\n",
              "    </tr>\n",
              "    <tr>\n",
              "      <th>4</th>\n",
              "      <td>2</td>\n",
              "      <td>191.77</td>\n",
              "      <td>168.91</td>\n",
              "      <td>187.0964</td>\n",
              "      <td>4</td>\n",
              "      <td>1</td>\n",
              "      <td>male</td>\n",
              "      <td>186.690</td>\n",
              "    </tr>\n",
              "    <tr>\n",
              "      <th>5</th>\n",
              "      <td>2</td>\n",
              "      <td>191.77</td>\n",
              "      <td>168.91</td>\n",
              "      <td>187.0964</td>\n",
              "      <td>4</td>\n",
              "      <td>2</td>\n",
              "      <td>male</td>\n",
              "      <td>184.150</td>\n",
              "    </tr>\n",
              "    <tr>\n",
              "      <th>8</th>\n",
              "      <td>3</td>\n",
              "      <td>190.50</td>\n",
              "      <td>162.56</td>\n",
              "      <td>183.0324</td>\n",
              "      <td>2</td>\n",
              "      <td>1</td>\n",
              "      <td>male</td>\n",
              "      <td>180.340</td>\n",
              "    </tr>\n",
              "    <tr>\n",
              "      <th>10</th>\n",
              "      <td>4</td>\n",
              "      <td>190.50</td>\n",
              "      <td>162.56</td>\n",
              "      <td>183.0324</td>\n",
              "      <td>5</td>\n",
              "      <td>1</td>\n",
              "      <td>male</td>\n",
              "      <td>179.070</td>\n",
              "    </tr>\n",
              "    <tr>\n",
              "      <th>...</th>\n",
              "      <td>...</td>\n",
              "      <td>...</td>\n",
              "      <td>...</td>\n",
              "      <td>...</td>\n",
              "      <td>...</td>\n",
              "      <td>...</td>\n",
              "      <td>...</td>\n",
              "      <td>...</td>\n",
              "    </tr>\n",
              "    <tr>\n",
              "      <th>918</th>\n",
              "      <td>199</td>\n",
              "      <td>162.56</td>\n",
              "      <td>162.56</td>\n",
              "      <td>169.0624</td>\n",
              "      <td>7</td>\n",
              "      <td>2</td>\n",
              "      <td>male</td>\n",
              "      <td>172.720</td>\n",
              "    </tr>\n",
              "    <tr>\n",
              "      <th>924</th>\n",
              "      <td>200</td>\n",
              "      <td>162.56</td>\n",
              "      <td>160.02</td>\n",
              "      <td>167.6908</td>\n",
              "      <td>1</td>\n",
              "      <td>1</td>\n",
              "      <td>male</td>\n",
              "      <td>163.830</td>\n",
              "    </tr>\n",
              "    <tr>\n",
              "      <th>925</th>\n",
              "      <td>201</td>\n",
              "      <td>162.56</td>\n",
              "      <td>152.40</td>\n",
              "      <td>163.5760</td>\n",
              "      <td>2</td>\n",
              "      <td>1</td>\n",
              "      <td>male</td>\n",
              "      <td>167.640</td>\n",
              "    </tr>\n",
              "    <tr>\n",
              "      <th>929</th>\n",
              "      <td>203</td>\n",
              "      <td>157.48</td>\n",
              "      <td>167.64</td>\n",
              "      <td>169.2656</td>\n",
              "      <td>3</td>\n",
              "      <td>1</td>\n",
              "      <td>male</td>\n",
              "      <td>162.560</td>\n",
              "    </tr>\n",
              "    <tr>\n",
              "      <th>932</th>\n",
              "      <td>204</td>\n",
              "      <td>158.75</td>\n",
              "      <td>160.02</td>\n",
              "      <td>165.7858</td>\n",
              "      <td>2</td>\n",
              "      <td>1</td>\n",
              "      <td>male</td>\n",
              "      <td>168.910</td>\n",
              "    </tr>\n",
              "  </tbody>\n",
              "</table>\n",
              "<p>481 rows × 8 columns</p>\n",
              "</div>\n",
              "      <button class=\"colab-df-convert\" onclick=\"convertToInteractive('df-dd0bcd4d-a6f7-4eda-8079-9ddb62b7c5aa')\"\n",
              "              title=\"Convert this dataframe to an interactive table.\"\n",
              "              style=\"display:none;\">\n",
              "        \n",
              "  <svg xmlns=\"http://www.w3.org/2000/svg\" height=\"24px\"viewBox=\"0 0 24 24\"\n",
              "       width=\"24px\">\n",
              "    <path d=\"M0 0h24v24H0V0z\" fill=\"none\"/>\n",
              "    <path d=\"M18.56 5.44l.94 2.06.94-2.06 2.06-.94-2.06-.94-.94-2.06-.94 2.06-2.06.94zm-11 1L8.5 8.5l.94-2.06 2.06-.94-2.06-.94L8.5 2.5l-.94 2.06-2.06.94zm10 10l.94 2.06.94-2.06 2.06-.94-2.06-.94-.94-2.06-.94 2.06-2.06.94z\"/><path d=\"M17.41 7.96l-1.37-1.37c-.4-.4-.92-.59-1.43-.59-.52 0-1.04.2-1.43.59L10.3 9.45l-7.72 7.72c-.78.78-.78 2.05 0 2.83L4 21.41c.39.39.9.59 1.41.59.51 0 1.02-.2 1.41-.59l7.78-7.78 2.81-2.81c.8-.78.8-2.07 0-2.86zM5.41 20L4 18.59l7.72-7.72 1.47 1.35L5.41 20z\"/>\n",
              "  </svg>\n",
              "      </button>\n",
              "      \n",
              "  <style>\n",
              "    .colab-df-container {\n",
              "      display:flex;\n",
              "      flex-wrap:wrap;\n",
              "      gap: 12px;\n",
              "    }\n",
              "\n",
              "    .colab-df-convert {\n",
              "      background-color: #E8F0FE;\n",
              "      border: none;\n",
              "      border-radius: 50%;\n",
              "      cursor: pointer;\n",
              "      display: none;\n",
              "      fill: #1967D2;\n",
              "      height: 32px;\n",
              "      padding: 0 0 0 0;\n",
              "      width: 32px;\n",
              "    }\n",
              "\n",
              "    .colab-df-convert:hover {\n",
              "      background-color: #E2EBFA;\n",
              "      box-shadow: 0px 1px 2px rgba(60, 64, 67, 0.3), 0px 1px 3px 1px rgba(60, 64, 67, 0.15);\n",
              "      fill: #174EA6;\n",
              "    }\n",
              "\n",
              "    [theme=dark] .colab-df-convert {\n",
              "      background-color: #3B4455;\n",
              "      fill: #D2E3FC;\n",
              "    }\n",
              "\n",
              "    [theme=dark] .colab-df-convert:hover {\n",
              "      background-color: #434B5C;\n",
              "      box-shadow: 0px 1px 3px 1px rgba(0, 0, 0, 0.15);\n",
              "      filter: drop-shadow(0px 1px 2px rgba(0, 0, 0, 0.3));\n",
              "      fill: #FFFFFF;\n",
              "    }\n",
              "  </style>\n",
              "\n",
              "      <script>\n",
              "        const buttonEl =\n",
              "          document.querySelector('#df-dd0bcd4d-a6f7-4eda-8079-9ddb62b7c5aa button.colab-df-convert');\n",
              "        buttonEl.style.display =\n",
              "          google.colab.kernel.accessAllowed ? 'block' : 'none';\n",
              "\n",
              "        async function convertToInteractive(key) {\n",
              "          const element = document.querySelector('#df-dd0bcd4d-a6f7-4eda-8079-9ddb62b7c5aa');\n",
              "          const dataTable =\n",
              "            await google.colab.kernel.invokeFunction('convertToInteractive',\n",
              "                                                     [key], {});\n",
              "          if (!dataTable) return;\n",
              "\n",
              "          const docLinkHtml = 'Like what you see? Visit the ' +\n",
              "            '<a target=\"_blank\" href=https://colab.research.google.com/notebooks/data_table.ipynb>data table notebook</a>'\n",
              "            + ' to learn more about interactive tables.';\n",
              "          element.innerHTML = '';\n",
              "          dataTable['output_type'] = 'display_data';\n",
              "          await google.colab.output.renderOutput(dataTable, element);\n",
              "          const docLink = document.createElement('div');\n",
              "          docLink.innerHTML = docLinkHtml;\n",
              "          element.appendChild(docLink);\n",
              "        }\n",
              "      </script>\n",
              "    </div>\n",
              "  </div>\n",
              "  "
            ],
            "text/plain": [
              "    family  father  mother  ...  childNum  gender  childHeight\n",
              "0        1  199.39  170.18  ...         1    male      185.928\n",
              "4        2  191.77  168.91  ...         1    male      186.690\n",
              "5        2  191.77  168.91  ...         2    male      184.150\n",
              "8        3  190.50  162.56  ...         1    male      180.340\n",
              "10       4  190.50  162.56  ...         1    male      179.070\n",
              "..     ...     ...     ...  ...       ...     ...          ...\n",
              "918    199  162.56  162.56  ...         2    male      172.720\n",
              "924    200  162.56  160.02  ...         1    male      163.830\n",
              "925    201  162.56  152.40  ...         1    male      167.640\n",
              "929    203  157.48  167.64  ...         1    male      162.560\n",
              "932    204  158.75  160.02  ...         1    male      168.910\n",
              "\n",
              "[481 rows x 8 columns]"
            ]
          },
          "metadata": {},
          "execution_count": 12
        }
      ]
    },
    {
      "cell_type": "code",
      "metadata": {
        "colab": {
          "base_uri": "https://localhost:8080/"
        },
        "id": "ZH2-21BHZzxu",
        "outputId": "030a387f-5292-455a-acc8-de1761f0f17e"
      },
      "source": [
        "x1 = df['father']\n",
        "\n",
        "X1 = df[['father']]\n",
        "y  = pd.Series(df['childHeight'])\n",
        "\n",
        "print(\"Number of Rows: \", len(df))\n",
        "print(\"x1 shape: \", x1.shape)\n",
        "print(\"X1 shape: \", X1.shape)\n",
        "\n",
        "print(\"y shape: \", y.shape)\n",
        "\n"
      ],
      "execution_count": null,
      "outputs": [
        {
          "output_type": "stream",
          "name": "stdout",
          "text": [
            "Number of Rows:  481\n",
            "x1 shape:  (481,)\n",
            "X1 shape:  (481, 1)\n",
            "y shape:  (481,)\n"
          ]
        }
      ]
    },
    {
      "cell_type": "code",
      "metadata": {
        "colab": {
          "base_uri": "https://localhost:8080/"
        },
        "id": "dELHhlEAgxal",
        "outputId": "49ca88b1-851b-4300-f2d2-d9da647a6fea"
      },
      "source": [
        "from sklearn.linear_model import LinearRegression\n",
        "\n",
        "model = LinearRegression(fit_intercept=True)\n",
        "\n",
        "model.fit(X1, y) # X1 is row/col fmt, y is vector\n",
        "\n",
        "print('Coefficient: \\n', model.coef_)\n",
        "print('Intercept: \\n', model.intercept_)\n",
        "\n",
        "# y = a + bx"
      ],
      "execution_count": null,
      "outputs": [
        {
          "output_type": "stream",
          "name": "stdout",
          "text": [
            "Coefficient: \n",
            " [0.4465226]\n",
            "Intercept: \n",
            " 97.4409558222927\n"
          ]
        }
      ]
    },
    {
      "cell_type": "code",
      "source": [
        "y = 97.4409558222927 + 0.4465226*160\n",
        "y"
      ],
      "metadata": {
        "colab": {
          "base_uri": "https://localhost:8080/"
        },
        "id": "yLRlo9CsMB8c",
        "outputId": "1302d900-555e-407f-8fb9-08c363df6b8d"
      },
      "execution_count": null,
      "outputs": [
        {
          "output_type": "execute_result",
          "data": {
            "text/plain": [
              "168.88457182229268"
            ]
          },
          "metadata": {},
          "execution_count": 15
        }
      ]
    },
    {
      "cell_type": "markdown",
      "metadata": {
        "id": "rcdeBWtlmJ9s"
      },
      "source": [
        "**Efecto de fit_intercept en la regresión lineal**\n",
        "\n",
        "![P3mN9.png](data:image/png;base64,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)"
      ]
    },
    {
      "cell_type": "markdown",
      "metadata": {
        "id": "7n7LFUQCna-D"
      },
      "source": [
        "# Predicción\n",
        "Utilizando el modelo para predecir valores para un _x_ dado:\n"
      ]
    },
    {
      "cell_type": "code",
      "metadata": {
        "colab": {
          "base_uri": "https://localhost:8080/"
        },
        "id": "JqJ1jHiJniwE",
        "outputId": "64a85446-670f-4f34-ab04-3de99a3338bb"
      },
      "source": [
        "ypred = model.predict([[160]])\n",
        "print(ypred)\n",
        "\n",
        "#[0.4465226]\n",
        "#Intercept: \n",
        "# 97.4409558222927\n",
        "#y = a + bx\n",
        "#y = 97.4409558222927 + 0.4465226*(160)\n",
        "#print(y)"
      ],
      "execution_count": null,
      "outputs": [
        {
          "output_type": "stream",
          "name": "stdout",
          "text": [
            "[168.88457257]\n"
          ]
        },
        {
          "output_type": "stream",
          "name": "stderr",
          "text": [
            "/usr/local/lib/python3.7/dist-packages/sklearn/base.py:451: UserWarning: X does not have valid feature names, but LinearRegression was fitted with feature names\n",
            "  \"X does not have valid feature names, but\"\n"
          ]
        }
      ]
    },
    {
      "cell_type": "code",
      "metadata": {
        "id": "_LjMA7AmpJII",
        "colab": {
          "base_uri": "https://localhost:8080/",
          "height": 501
        },
        "outputId": "350e810f-db79-4075-df56-83c35d75decf"
      },
      "source": [
        "xpred = np.linspace(x1.min(), x1.max()) \n",
        "Xpred = xpred[:, np.newaxis] \n",
        "\n",
        "ypred = model.predict(Xpred)\n",
        "\n",
        "import matplotlib\n",
        "import matplotlib.pyplot as plt\n",
        " \n",
        "plt.figure(1, (10,8)) \n",
        " \n",
        "# Histograma de la altura de los padres\n",
        "plt.subplot(2,2,1)\n",
        "plt.hist(x1)\n",
        "plt.axis([x1.min(),x1.max(),0,160])\n",
        " \n",
        "# Scatter plot with line-fit\n",
        "plt.subplot(2,2,3)\n",
        "plt.scatter(x1,y)\n",
        "plt.plot(Xpred,ypred, color=\"dimgrey\")\n",
        "plt.axis([x1.min()-5, x1.max()+5, y.min()-5, y.max()+5])\n",
        "plt.xlabel(\"Altura de los padres - cm\")\n",
        "plt.ylabel(\"Altura de los hijos - cm\")\n",
        " \n",
        "# Histograma de las estaturas de los hijos\n",
        "plt.subplot(2,2,2)\n",
        "plt.hist(y,orientation='vertical')\n",
        " \n",
        "plt.show()\n"
      ],
      "execution_count": null,
      "outputs": [
        {
          "output_type": "display_data",
          "data": {
            "image/png": "[encoded data removed]",
            "text/plain": [
              "<Figure size 720x576 with 3 Axes>"
            ]
          },
          "metadata": {
            "needs_background": "light"
          }
        }
      ]
    },
    {
      "cell_type": "code",
      "metadata": {
        "colab": {
          "base_uri": "https://localhost:8080/"
        },
        "id": "0tICFd8z85pu",
        "outputId": "c35a4e64-b55b-4046-ad8b-62b1c148441e"
      },
      "source": [
        "print(y.mean())\n",
        "print(y.min())\n",
        "print(y.max())"
      ],
      "execution_count": null,
      "outputs": [
        {
          "output_type": "stream",
          "name": "stdout",
          "text": [
            "175.8546029106027\n",
            "152.4\n",
            "200.66\n"
          ]
        }
      ]
    },
    {
      "cell_type": "markdown",
      "metadata": {
        "id": "Uxl4enMFL_71"
      },
      "source": [
        "# Ejercicio\n",
        "\n",
        "Realizar la regresión lineal utilizando como variables predictoras \n",
        "- la estatura de la madre\n",
        "- la media entre la estatura de padre y madre\n",
        "\n",
        "Calcular la estatura de las hijas."
      ]
    }
  ]
}